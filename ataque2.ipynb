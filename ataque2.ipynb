{
 "cells": [
  {
   "cell_type": "code",
   "execution_count": 7,
   "metadata": {},
   "outputs": [],
   "source": [
    "from art.attacks.extraction import CopycatCNN\n",
    "from art.estimators.classification import KerasClassifier\n",
    "from keras.layers import Convolution2D, MaxPooling2D, Flatten, Dense\n",
    "from keras.models import load_model, Sequential\n",
    "from sklearn.model_selection import train_test_split\n",
    "import numpy as np\n",
    "import tensorflow as tf\n",
    "\n",
    "tf.compat.v1.disable_eager_execution()"
   ]
  },
  {
   "cell_type": "code",
   "execution_count": 8,
   "metadata": {},
   "outputs": [
    {
     "name": "stderr",
     "output_type": "stream",
     "text": [
      "2023-05-23 21:02:46.541286: W tensorflow/c/c_api.cc:304] Operation '{name:'AssignVariableOp_22' id:697 op device:{requested: '/device:CPU:0', assigned: ''} def:{{{node AssignVariableOp_22}} = AssignVariableOp[_has_manual_control_dependencies=true, dtype=DT_FLOAT, validate_shape=false, _device=\"/device:CPU:0\"](bias_7, Identity_22)}}' was changed by setting attribute after it was run by a session. This mutation will have no effect, and will trigger an error in the future. Either don't modify nodes after running them or create a new session.\n"
     ]
    }
   ],
   "source": [
    "# Carga del modelo creado\n",
    "use_model = load_model('./model')\n",
    "load_x = np.load('x_val.npy')\n",
    "load_y = np.loadtxt('y_val.txt', delimiter=',')\n",
    "X_train, X_test, y_train, y_test_ = train_test_split(load_x, load_y, test_size=0.30, random_state=1)"
   ]
  },
  {
   "cell_type": "code",
   "execution_count": 9,
   "metadata": {},
   "outputs": [],
   "source": [
    "# Creacion del clasificador\n",
    "keras_classifier = KerasClassifier(use_model)\n",
    "copyCat = CopycatCNN(batch_size_fit=16, batch_size_query=16, nb_epochs=5,nb_stolen=500,classifier=keras_classifier)"
   ]
  },
  {
   "cell_type": "code",
   "execution_count": 10,
   "metadata": {},
   "outputs": [],
   "source": [
    "sequential_model = Sequential()\n",
    "sequential_model.add(Convolution2D(32, (3, 3), strides=(1, 1), input_shape=(256, 256, 3), activation='relu'))\n",
    "sequential_model.add(MaxPooling2D(pool_size=(2, 2)))\n",
    "sequential_model.add(Convolution2D(64, (3, 3), strides=(1, 1), activation='relu'))\n",
    "sequential_model.add(MaxPooling2D(pool_size=(2, 2)))\n",
    "sequential_model.add(Flatten())\n",
    "sequential_model.add(Dense(512, activation='softplus'))\n",
    "sequential_model.add(Dense(26, activation='sigmoid'))\n",
    "sequential_model.compile(optimizer=\"adam\",loss=\"categorical_crossentropy\",metrics=[\"accuracy\"])"
   ]
  },
  {
   "cell_type": "code",
   "execution_count": 11,
   "metadata": {},
   "outputs": [],
   "source": [
    "model_stolen = KerasClassifier(model=sequential_model)"
   ]
  },
  {
   "cell_type": "code",
   "execution_count": 12,
   "metadata": {},
   "outputs": [
    {
     "name": "stderr",
     "output_type": "stream",
     "text": [
      "/Users/oscarsaravia/Documents/Universidad/security-data-science/SDS-LAB07/venv/lib/python3.11/site-packages/keras/engine/training_v1.py:2359: UserWarning: `Model.state_updates` will be removed in a future version. This property should not be used in TensorFlow 2.0, as `updates` are applied automatically.\n",
      "  updates=self.state_updates,\n",
      "2023-05-23 21:02:51.019402: W tensorflow/c/c_api.cc:304] Operation '{name:'dense_1_2/Sigmoid' id:724 op device:{requested: '', assigned: ''} def:{{{node dense_1_2/Sigmoid}} = Sigmoid[T=DT_FLOAT, _has_manual_control_dependencies=true](dense_1_2/BiasAdd)}}' was changed by setting attribute after it was run by a session. This mutation will have no effect, and will trigger an error in the future. Either don't modify nodes after running them or create a new session.\n",
      "2023-05-23 21:02:51.077941: W tensorflow/c/c_api.cc:304] Operation '{name:'dense_3_1/kernel/Assign' id:977 op device:{requested: '', assigned: ''} def:{{{node dense_3_1/kernel/Assign}} = AssignVariableOp[_has_manual_control_dependencies=true, dtype=DT_FLOAT, validate_shape=false](dense_3_1/kernel, dense_3_1/kernel/Initializer/stateless_random_uniform)}}' was changed by setting attribute after it was run by a session. This mutation will have no effect, and will trigger an error in the future. Either don't modify nodes after running them or create a new session.\n"
     ]
    },
    {
     "name": "stdout",
     "output_type": "stream",
     "text": [
      "Train on 500 samples\n"
     ]
    },
    {
     "name": "stderr",
     "output_type": "stream",
     "text": [
      "2023-05-23 21:02:55.664873: W tensorflow/c/c_api.cc:304] Operation '{name:'loss_3/mul' id:1064 op device:{requested: '', assigned: ''} def:{{{node loss_3/mul}} = Mul[T=DT_FLOAT, _has_manual_control_dependencies=true](loss_3/mul/x, loss_3/dense_3_loss/value)}}' was changed by setting attribute after it was run by a session. This mutation will have no effect, and will trigger an error in the future. Either don't modify nodes after running them or create a new session.\n",
      "2023-05-23 21:02:55.701083: W tensorflow/c/c_api.cc:304] Operation '{name:'training/Adam/dense_3_1/bias/m/Assign' id:1287 op device:{requested: '', assigned: ''} def:{{{node training/Adam/dense_3_1/bias/m/Assign}} = AssignVariableOp[_has_manual_control_dependencies=true, dtype=DT_FLOAT, validate_shape=false](training/Adam/dense_3_1/bias/m, training/Adam/dense_3_1/bias/m/Initializer/zeros)}}' was changed by setting attribute after it was run by a session. This mutation will have no effect, and will trigger an error in the future. Either don't modify nodes after running them or create a new session.\n"
     ]
    },
    {
     "name": "stdout",
     "output_type": "stream",
     "text": [
      "Epoch 1/5\n",
      "500/500 [==============================] - 18s 36ms/sample - loss: 947.7023 - accuracy: 0.8540\n",
      "Epoch 2/5\n",
      "500/500 [==============================] - 18s 36ms/sample - loss: 1.4851 - accuracy: 0.9480\n",
      "Epoch 3/5\n",
      "500/500 [==============================] - 20s 40ms/sample - loss: 0.8271 - accuracy: 0.9820\n",
      "Epoch 4/5\n",
      "500/500 [==============================] - 19s 37ms/sample - loss: 0.0033 - accuracy: 1.0000\n",
      "Epoch 5/5\n",
      "500/500 [==============================] - 18s 35ms/sample - loss: 1.8514e-04 - accuracy: 1.0000\n"
     ]
    }
   ],
   "source": [
    "stolen_classifier = copyCat.extract(\n",
    "  x=X_train, \n",
    "  y=y_train, \n",
    "  thieved_classifier=model_stolen\n",
    ")"
   ]
  },
  {
   "cell_type": "code",
   "execution_count": 13,
   "metadata": {},
   "outputs": [
    {
     "name": "stderr",
     "output_type": "stream",
     "text": [
      "/Users/oscarsaravia/Documents/Universidad/security-data-science/SDS-LAB07/venv/lib/python3.11/site-packages/keras/engine/training_v1.py:2335: UserWarning: `Model.state_updates` will be removed in a future version. This property should not be used in TensorFlow 2.0, as `updates` are applied automatically.\n",
      "  updates = self.state_updates\n",
      "2023-05-23 21:04:28.189985: W tensorflow/c/c_api.cc:304] Operation '{name:'loss_2/mul' id:800 op device:{requested: '', assigned: ''} def:{{{node loss_2/mul}} = Mul[T=DT_FLOAT, _has_manual_control_dependencies=true](loss_2/mul/x, loss_2/dense_1_loss/value)}}' was changed by setting attribute after it was run by a session. This mutation will have no effect, and will trigger an error in the future. Either don't modify nodes after running them or create a new session.\n",
      "2023-05-23 21:04:31.635854: W tensorflow/c/c_api.cc:304] Operation '{name:'loss_3/mul' id:1064 op device:{requested: '', assigned: ''} def:{{{node loss_3/mul}} = Mul[T=DT_FLOAT, _has_manual_control_dependencies=true](loss_3/mul/x, loss_3/dense_3_loss/value)}}' was changed by setting attribute after it was run by a session. This mutation will have no effect, and will trigger an error in the future. Either don't modify nodes after running them or create a new session.\n"
     ]
    },
    {
     "name": "stdout",
     "output_type": "stream",
     "text": [
      "[32.65007080078125, 0.6616667]\n",
      "[21.0602086130778, 0.75333333]\n"
     ]
    }
   ],
   "source": [
    "score1 = keras_classifier._model.evaluate(x=X_test, y=y_test_)\n",
    "score2 = stolen_classifier._model.evaluate(x=X_test,y=y_test_)\n",
    "print(score1)\n",
    "print(score2)"
   ]
  },
  {
   "attachments": {},
   "cell_type": "markdown",
   "metadata": {},
   "source": [
    "Discusión\n",
    "<br>\n",
    "* Desde nuestro punto de vista, el ataque se puede mejorar. Los resultados obtenidos se deben a la cantidad de epochs y el tamaño del modelo que se utilizó."
   ]
  }
 ],
 "metadata": {
  "kernelspec": {
   "display_name": "venv",
   "language": "python",
   "name": "python3"
  },
  "language_info": {
   "codemirror_mode": {
    "name": "ipython",
    "version": 3
   },
   "file_extension": ".py",
   "mimetype": "text/x-python",
   "name": "python",
   "nbconvert_exporter": "python",
   "pygments_lexer": "ipython3",
   "version": "3.11.3"
  },
  "orig_nbformat": 4
 },
 "nbformat": 4,
 "nbformat_minor": 2
}
