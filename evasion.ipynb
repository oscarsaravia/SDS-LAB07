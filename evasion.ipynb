{
 "cells": [
  {
   "cell_type": "code",
   "execution_count": 8,
   "metadata": {},
   "outputs": [],
   "source": [
    "from art.attacks.evasion import FastGradientMethod\n",
    "from art.estimators.classification import KerasClassifier\n",
    "from keras.models import load_model\n",
    "from sklearn.model_selection import train_test_split\n",
    "import matplotlib.pyplot as plt\n",
    "import numpy as np\n",
    "import tensorflow as tf\n",
    "\n",
    "tf.compat.v1.disable_eager_execution()"
   ]
  },
  {
   "cell_type": "code",
   "execution_count": 3,
   "metadata": {},
   "outputs": [
    {
     "name": "stderr",
     "output_type": "stream",
     "text": [
      "2023-05-17 21:53:37.737662: W tensorflow/c/c_api.cc:304] Operation '{name:'AssignVariableOp_15' id:351 op device:{requested: '/device:CPU:0', assigned: ''} def:{{{node AssignVariableOp_15}} = AssignVariableOp[_has_manual_control_dependencies=true, dtype=DT_FLOAT, validate_shape=false, _device=\"/device:CPU:0\"](total_4, Identity_15)}}' was changed by setting attribute after it was run by a session. This mutation will have no effect, and will trigger an error in the future. Either don't modify nodes after running them or create a new session.\n"
     ]
    }
   ],
   "source": [
    "use_model = load_model('./model')\n",
    "load_x = np.load('x_val.npy')\n",
    "load_y = np.loadtxt('y_val.txt', delimiter=',')"
   ]
  },
  {
   "cell_type": "code",
   "execution_count": 4,
   "metadata": {},
   "outputs": [],
   "source": [
    "keras_classifier = KerasClassifier(use_model)\n",
    "fgm = FastGradientMethod(estimator=keras_classifier, eps=2.7)\n",
    "t_images = fgm.generate(x=load_x)\n",
    "plt.imshow(X=t_images[0])"
   ]
  },
  {
   "cell_type": "code",
   "execution_count": 25,
   "metadata": {},
   "outputs": [
    {
     "name": "stdout",
     "output_type": "stream",
     "text": [
      "4670\n",
      "4670\n"
     ]
    },
    {
     "ename": "ValueError",
     "evalue": "A target array with shape (4670, 26) was passed for an output of shape (None, 25) while using as loss `categorical_crossentropy`. This loss expects targets to have the same shape as the output.",
     "output_type": "error",
     "traceback": [
      "\u001b[0;31m---------------------------------------------------------------------------\u001b[0m",
      "\u001b[0;31mValueError\u001b[0m                                Traceback (most recent call last)",
      "Cell \u001b[0;32mIn[25], line 3\u001b[0m\n\u001b[1;32m      1\u001b[0m \u001b[39mprint\u001b[39m(\u001b[39mlen\u001b[39m(x_stealed_loaded))\n\u001b[1;32m      2\u001b[0m \u001b[39mprint\u001b[39m(\u001b[39mlen\u001b[39m(y_stealed_loaded))\n\u001b[0;32m----> 3\u001b[0m classifier\u001b[39m.\u001b[39;49m_model\u001b[39m.\u001b[39;49mevaluate(\n\u001b[1;32m      4\u001b[0m     x\u001b[39m=\u001b[39;49mx_stealed_loaded,\n\u001b[1;32m      5\u001b[0m     y\u001b[39m=\u001b[39;49my_stealed_loaded\n\u001b[1;32m      6\u001b[0m )\n\u001b[1;32m      7\u001b[0m \u001b[39m# score_original = classifier._model.evaluate(\u001b[39;00m\n\u001b[1;32m      8\u001b[0m \u001b[39m#     x=x_stealed_loaded,\u001b[39;00m\n\u001b[1;32m      9\u001b[0m \u001b[39m#     y=y_stealed_loaded\u001b[39;00m\n\u001b[0;32m   (...)\u001b[0m\n\u001b[1;32m     20\u001b[0m \u001b[39m# # Comparing test accuracies\u001b[39;00m\n\u001b[1;32m     21\u001b[0m \u001b[39m# print(f\"Original test accuracy: {score_original[1]:.2f} \" f\"vs adversarial test accuracy: {score_stolen[1]:.2f}\")\u001b[39;00m\n",
      "File \u001b[0;32m~/Documents/Universidad/security-data-science/SDS-LAB07/venv/lib/python3.11/site-packages/keras/engine/training_v1.py:975\u001b[0m, in \u001b[0;36mModel.evaluate\u001b[0;34m(self, x, y, batch_size, verbose, sample_weight, steps, callbacks, max_queue_size, workers, use_multiprocessing)\u001b[0m\n\u001b[1;32m    972\u001b[0m \u001b[39mself\u001b[39m\u001b[39m.\u001b[39m_check_call_args(\u001b[39m\"\u001b[39m\u001b[39mevaluate\u001b[39m\u001b[39m\"\u001b[39m)\n\u001b[1;32m    974\u001b[0m func \u001b[39m=\u001b[39m \u001b[39mself\u001b[39m\u001b[39m.\u001b[39m_select_training_loop(x)\n\u001b[0;32m--> 975\u001b[0m \u001b[39mreturn\u001b[39;00m func\u001b[39m.\u001b[39;49mevaluate(\n\u001b[1;32m    976\u001b[0m     \u001b[39mself\u001b[39;49m,\n\u001b[1;32m    977\u001b[0m     x\u001b[39m=\u001b[39;49mx,\n\u001b[1;32m    978\u001b[0m     y\u001b[39m=\u001b[39;49my,\n\u001b[1;32m    979\u001b[0m     batch_size\u001b[39m=\u001b[39;49mbatch_size,\n\u001b[1;32m    980\u001b[0m     verbose\u001b[39m=\u001b[39;49mverbose,\n\u001b[1;32m    981\u001b[0m     sample_weight\u001b[39m=\u001b[39;49msample_weight,\n\u001b[1;32m    982\u001b[0m     steps\u001b[39m=\u001b[39;49msteps,\n\u001b[1;32m    983\u001b[0m     callbacks\u001b[39m=\u001b[39;49mcallbacks,\n\u001b[1;32m    984\u001b[0m     max_queue_size\u001b[39m=\u001b[39;49mmax_queue_size,\n\u001b[1;32m    985\u001b[0m     workers\u001b[39m=\u001b[39;49mworkers,\n\u001b[1;32m    986\u001b[0m     use_multiprocessing\u001b[39m=\u001b[39;49muse_multiprocessing,\n\u001b[1;32m    987\u001b[0m )\n",
      "File \u001b[0;32m~/Documents/Universidad/security-data-science/SDS-LAB07/venv/lib/python3.11/site-packages/keras/engine/training_arrays_v1.py:767\u001b[0m, in \u001b[0;36mArrayLikeTrainingLoop.evaluate\u001b[0;34m(self, model, x, y, batch_size, verbose, sample_weight, steps, callbacks, **kwargs)\u001b[0m\n\u001b[1;32m    754\u001b[0m \u001b[39mdef\u001b[39;00m \u001b[39mevaluate\u001b[39m(\n\u001b[1;32m    755\u001b[0m     \u001b[39mself\u001b[39m,\n\u001b[1;32m    756\u001b[0m     model,\n\u001b[0;32m   (...)\u001b[0m\n\u001b[1;32m    764\u001b[0m     \u001b[39m*\u001b[39m\u001b[39m*\u001b[39mkwargs,\n\u001b[1;32m    765\u001b[0m ):\n\u001b[1;32m    766\u001b[0m     batch_size \u001b[39m=\u001b[39m model\u001b[39m.\u001b[39m_validate_or_infer_batch_size(batch_size, steps, x)\n\u001b[0;32m--> 767\u001b[0m     x, y, sample_weights \u001b[39m=\u001b[39m model\u001b[39m.\u001b[39;49m_standardize_user_data(\n\u001b[1;32m    768\u001b[0m         x,\n\u001b[1;32m    769\u001b[0m         y,\n\u001b[1;32m    770\u001b[0m         sample_weight\u001b[39m=\u001b[39;49msample_weight,\n\u001b[1;32m    771\u001b[0m         batch_size\u001b[39m=\u001b[39;49mbatch_size,\n\u001b[1;32m    772\u001b[0m         check_steps\u001b[39m=\u001b[39;49m\u001b[39mTrue\u001b[39;49;00m,\n\u001b[1;32m    773\u001b[0m         steps_name\u001b[39m=\u001b[39;49m\u001b[39m\"\u001b[39;49m\u001b[39msteps\u001b[39;49m\u001b[39m\"\u001b[39;49m,\n\u001b[1;32m    774\u001b[0m         steps\u001b[39m=\u001b[39;49msteps,\n\u001b[1;32m    775\u001b[0m     )\n\u001b[1;32m    776\u001b[0m     \u001b[39mreturn\u001b[39;00m test_loop(\n\u001b[1;32m    777\u001b[0m         model,\n\u001b[1;32m    778\u001b[0m         inputs\u001b[39m=\u001b[39mx,\n\u001b[0;32m   (...)\u001b[0m\n\u001b[1;32m    784\u001b[0m         callbacks\u001b[39m=\u001b[39mcallbacks,\n\u001b[1;32m    785\u001b[0m     )\n",
      "File \u001b[0;32m~/Documents/Universidad/security-data-science/SDS-LAB07/venv/lib/python3.11/site-packages/keras/engine/training_v1.py:2652\u001b[0m, in \u001b[0;36mModel._standardize_user_data\u001b[0;34m(self, x, y, sample_weight, class_weight, batch_size, check_steps, steps_name, steps, validation_split, shuffle, extract_tensors_from_dataset)\u001b[0m\n\u001b[1;32m   2643\u001b[0m \u001b[39mif\u001b[39;00m (\n\u001b[1;32m   2644\u001b[0m     \u001b[39mnot\u001b[39;00m run_eagerly\n\u001b[1;32m   2645\u001b[0m     \u001b[39mand\u001b[39;00m is_build_called\n\u001b[0;32m   (...)\u001b[0m\n\u001b[1;32m   2648\u001b[0m     \u001b[39mand\u001b[39;00m \u001b[39many\u001b[39m(_is_symbolic_tensor(v) \u001b[39mfor\u001b[39;00m v \u001b[39min\u001b[39;00m all_inputs)\n\u001b[1;32m   2649\u001b[0m ):\n\u001b[1;32m   2650\u001b[0m     \u001b[39mreturn\u001b[39;00m [], [], \u001b[39mNone\u001b[39;00m\n\u001b[0;32m-> 2652\u001b[0m \u001b[39mreturn\u001b[39;00m \u001b[39mself\u001b[39;49m\u001b[39m.\u001b[39;49m_standardize_tensors(\n\u001b[1;32m   2653\u001b[0m     x,\n\u001b[1;32m   2654\u001b[0m     y,\n\u001b[1;32m   2655\u001b[0m     sample_weight,\n\u001b[1;32m   2656\u001b[0m     run_eagerly\u001b[39m=\u001b[39;49mrun_eagerly,\n\u001b[1;32m   2657\u001b[0m     dict_inputs\u001b[39m=\u001b[39;49mdict_inputs,\n\u001b[1;32m   2658\u001b[0m     is_dataset\u001b[39m=\u001b[39;49mis_dataset,\n\u001b[1;32m   2659\u001b[0m     class_weight\u001b[39m=\u001b[39;49mclass_weight,\n\u001b[1;32m   2660\u001b[0m     batch_size\u001b[39m=\u001b[39;49mbatch_size,\n\u001b[1;32m   2661\u001b[0m )\n",
      "File \u001b[0;32m~/Documents/Universidad/security-data-science/SDS-LAB07/venv/lib/python3.11/site-packages/keras/engine/training_v1.py:2783\u001b[0m, in \u001b[0;36mModel._standardize_tensors\u001b[0;34m(self, x, y, sample_weight, run_eagerly, dict_inputs, is_dataset, class_weight, batch_size)\u001b[0m\n\u001b[1;32m   2779\u001b[0m         training_utils_v1\u001b[39m.\u001b[39mcheck_array_lengths(x, y, sample_weights)\n\u001b[1;32m   2780\u001b[0m         \u001b[39mif\u001b[39;00m \u001b[39mself\u001b[39m\u001b[39m.\u001b[39m_is_graph_network \u001b[39mand\u001b[39;00m \u001b[39mnot\u001b[39;00m run_eagerly:\n\u001b[1;32m   2781\u001b[0m             \u001b[39m# Additional checks to avoid users mistakenly using improper\u001b[39;00m\n\u001b[1;32m   2782\u001b[0m             \u001b[39m# loss fns.\u001b[39;00m\n\u001b[0;32m-> 2783\u001b[0m             training_utils_v1\u001b[39m.\u001b[39;49mcheck_loss_and_target_compatibility(\n\u001b[1;32m   2784\u001b[0m                 y, \u001b[39mself\u001b[39;49m\u001b[39m.\u001b[39;49m_feed_loss_fns, feed_output_shapes\n\u001b[1;32m   2785\u001b[0m             )\n\u001b[1;32m   2787\u001b[0m     sample_weights, _, _ \u001b[39m=\u001b[39m training_utils\u001b[39m.\u001b[39mhandle_partial_sample_weights(\n\u001b[1;32m   2788\u001b[0m         y, sample_weights, feed_sample_weight_modes, check_all_flat\u001b[39m=\u001b[39m\u001b[39mTrue\u001b[39;00m\n\u001b[1;32m   2789\u001b[0m     )\n\u001b[1;32m   2790\u001b[0m \u001b[39melse\u001b[39;00m:\n",
      "File \u001b[0;32m~/Documents/Universidad/security-data-science/SDS-LAB07/venv/lib/python3.11/site-packages/keras/engine/training_utils_v1.py:945\u001b[0m, in \u001b[0;36mcheck_loss_and_target_compatibility\u001b[0;34m(targets, loss_fns, output_shapes)\u001b[0m\n\u001b[1;32m    943\u001b[0m     loss_type \u001b[39m=\u001b[39m loss\u001b[39m.\u001b[39mfn \u001b[39mif\u001b[39;00m is_loss_wrapper \u001b[39melse\u001b[39;00m \u001b[39mtype\u001b[39m(loss)\n\u001b[1;32m    944\u001b[0m     loss_name \u001b[39m=\u001b[39m loss_type\u001b[39m.\u001b[39m\u001b[39m__name__\u001b[39m\n\u001b[0;32m--> 945\u001b[0m \u001b[39mraise\u001b[39;00m \u001b[39mValueError\u001b[39;00m(\n\u001b[1;32m    946\u001b[0m     \u001b[39m\"\u001b[39m\u001b[39mA target array with shape \u001b[39m\u001b[39m\"\u001b[39m\n\u001b[1;32m    947\u001b[0m     \u001b[39m+\u001b[39m \u001b[39mstr\u001b[39m(y\u001b[39m.\u001b[39mshape)\n\u001b[1;32m    948\u001b[0m     \u001b[39m+\u001b[39m \u001b[39m\"\u001b[39m\u001b[39m was passed for an output of shape \u001b[39m\u001b[39m\"\u001b[39m\n\u001b[1;32m    949\u001b[0m     \u001b[39m+\u001b[39m \u001b[39mstr\u001b[39m(shape)\n\u001b[1;32m    950\u001b[0m     \u001b[39m+\u001b[39m \u001b[39m\"\u001b[39m\u001b[39m while using as loss `\u001b[39m\u001b[39m\"\u001b[39m\n\u001b[1;32m    951\u001b[0m     \u001b[39m+\u001b[39m loss_name\n\u001b[1;32m    952\u001b[0m     \u001b[39m+\u001b[39m \u001b[39m\"\u001b[39m\u001b[39m`. \u001b[39m\u001b[39m\"\u001b[39m\n\u001b[1;32m    953\u001b[0m     \u001b[39m\"\u001b[39m\u001b[39mThis loss expects targets to have the same shape \u001b[39m\u001b[39m\"\u001b[39m\n\u001b[1;32m    954\u001b[0m     \u001b[39m\"\u001b[39m\u001b[39mas the output.\u001b[39m\u001b[39m\"\u001b[39m\n\u001b[1;32m    955\u001b[0m )\n",
      "\u001b[0;31mValueError\u001b[0m: A target array with shape (4670, 26) was passed for an output of shape (None, 25) while using as loss `categorical_crossentropy`. This loss expects targets to have the same shape as the output."
     ]
    }
   ],
   "source": [
    "keras_classifier._model.evaluate(\n",
    "    x=load_x,\n",
    "    y=load_y\n",
    ")\n",
    "# score_original = classifier._model.evaluate(\n",
    "#     x=load_x,\n",
    "#     y=load_y\n",
    "# )\n",
    "\n",
    "# score_stolen = classifier._model.evaluate(\n",
    "#     x=t_images,\n",
    "#     y=load_y\n",
    "# )\n",
    "\n",
    "# # Comparing test losses\n",
    "# print(f\"Original test loss: {score_original[0]:.2f} \"  f\"vs stolen test loss: {score_stolen[0]:.2f}\")\n",
    "\n",
    "# # Comparing test accuracies\n",
    "# print(f\"Original test accuracy: {score_original[1]:.2f} \" f\"vs adversarial test accuracy: {score_stolen[1]:.2f}\")"
   ]
  }
 ],
 "metadata": {
  "kernelspec": {
   "display_name": "venv",
   "language": "python",
   "name": "python3"
  },
  "language_info": {
   "codemirror_mode": {
    "name": "ipython",
    "version": 3
   },
   "file_extension": ".py",
   "mimetype": "text/x-python",
   "name": "python",
   "nbconvert_exporter": "python",
   "pygments_lexer": "ipython3",
   "version": "3.11.3"
  },
  "orig_nbformat": 4
 },
 "nbformat": 4,
 "nbformat_minor": 2
}
